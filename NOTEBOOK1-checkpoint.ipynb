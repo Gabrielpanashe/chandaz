{
 "cells": [
  {
   "cell_type": "markdown",
   "id": "4ee4111d-db9f-4be6-994c-ae81c5021e67",
   "metadata": {},
   "source": [
    "**DATA CLEANING AND EDA(Explaratory Data Analysis)**\n",
    "On this Notebook I have done data cleaning and Explaratory Data Analysis.\n",
    "Firstly On DATA PREPARATION l have handled missing values through imputing them with mean values and removing some,scaled some of the data to common range to prevent features with large ranges, eliminated duplicates to prevent skewing the model perfomance, data quality check through identifying and addressing issues like invalid, removing irrelevant features that do not contribute to the model perfomance,handling outliers which are data points that are different from the restof the data,\n",
    "Secondly on EDA l have calculated the summary statistics(mean,meadian,modes,SD) to understand central tendency and variability of the data, used plots and charts to visualise relationships and data quality issue, created new features and modified existing ones, data transformation through scaling and normalizing.\n",
    "\n",
    "**WHY DATA CLEANING AND EDA(explaratory data analysis)**\n",
    "To improve model accuracy and perfomance, Reduce the risk of overfitting or underfitting, enhance data interpretability, understand the data stucture and distribution, develop more robust and accurate models.\n",
    "\n"
   ]
  },
  {
   "cell_type": "code",
   "execution_count": null,
   "id": "fd62833b-c658-4d33-958b-8c7360319f1f",
   "metadata": {},
   "outputs": [],
   "source": [
    "#importing necesary libriries\n",
    "import pandas as pd\n",
    "import numpy as np\n",
    "from sklearn.preprocessing import StandardScaler, MinMaxScaler\n",
    "from sklearn.preprocessing import Normalizer\n",
    "from scipy.stats import zscore\n",
    "import matplotlib.pyplot as plt\n",
    "import seaborn as sns\n"
   ]
  },
  {
   "cell_type": "code",
   "execution_count": null,
   "id": "3373854e-5cb1-43d4-9453-1882a0864795",
   "metadata": {},
   "outputs": [],
   "source": [
    "data = pd.read_csv('data_science_competition2024.csv')"
   ]
  },
  {
   "cell_type": "markdown",
   "id": "00c414f9-d686-421f-8096-cbaeaedb085d",
   "metadata": {},
   "source": [
    "**DATA CLEANING**\n"
   ]
  },
  {
   "cell_type": "code",
   "execution_count": null,
   "id": "72f6100b-4807-4aee-9b3a-ae95a046ff98",
   "metadata": {},
   "outputs": [],
   "source": [
    "#generating summary statistics\n",
    "data.info()                  #output shows that there are no missing data( NO null, NO Blank cells, NO 'NA', 'unknown or 'missing'"
   ]
  },
  {
   "cell_type": "code",
   "execution_count": null,
   "id": "33b857fe-e466-43b2-9064-dd9caab7fb63",
   "metadata": {},
   "outputs": [],
   "source": [
    "#dropping all rows with any missing values\n",
    "data=data.dropna()\n",
    "data"
   ]
  },
  {
   "cell_type": "code",
   "execution_count": null,
   "id": "f1410dca-ecca-42e7-9ea4-38576f6f05f2",
   "metadata": {},
   "outputs": [],
   "source": [
    "#drops all columns with any missing values\n",
    "data=data.dropna(axis=1)\n",
    "data"
   ]
  },
  {
   "cell_type": "code",
   "execution_count": null,
   "id": "7be0ead1-2d0c-4dcb-a5e8-2c90ac24faea",
   "metadata": {},
   "outputs": [],
   "source": [
    "data=data.columns()\n",
    "data"
   ]
  },
  {
   "cell_type": "code",
   "execution_count": null,
   "id": "b44c8eec-260f-4176-bb29-5e0ca04026dc",
   "metadata": {},
   "outputs": [],
   "source": [
    "# Drop duplicate rows based on all columns\n",
    "df = df.drop_duplicates()"
   ]
  },
  {
   "cell_type": "code",
   "execution_count": null,
   "id": "d57f5b31-e9c1-4d12-beb0-f057486fa22e",
   "metadata": {},
   "outputs": [],
   "source": [
    "#dropping unnecessary cells,(those that do not directly affect PD for example loan id,country,) \n",
    "#and duplicates to prevent skewing such as age and age.1,gender and sex\n",
    "data = data.dropna(subset=['loan_id', 'country', 'age.1', 'sex'], axis=1)\n",
    "data"
   ]
  },
  {
   "cell_type": "code",
   "execution_count": null,
   "id": "eb0f06c2-df18-42fb-8a07-28150b7672fb",
   "metadata": {},
   "outputs": [],
   "source": [
    "# Detect outliers using z-score\n",
    "\n",
    "z = np.abs(zscore(df['loan_amount']))\n",
    "df = df[(z < 3)]"
   ]
  },
  {
   "cell_type": "markdown",
   "id": "fc463f0d-4206-4987-b0a8-23af00143259",
   "metadata": {},
   "source": [
    "**EDA (Explaratory Data Analysis)**\n",
    "Visualisations\n",
    "Relationships\n",
    "Creating new features\n",
    "data transformation"
   ]
  },
  {
   "cell_type": "code",
   "execution_count": null,
   "id": "ae082dc5-98e1-4244-b82e-869217ba09b4",
   "metadata": {},
   "outputs": [],
   "source": [
    "# Calculate summary statistics\n",
    "print(df.describe())"
   ]
  },
  {
   "cell_type": "code",
   "execution_count": null,
   "id": "68391106-7472-4887-b5d6-043c819bbb6b",
   "metadata": {},
   "outputs": [],
   "source": [
    "# Visualize the distribution of the 'loan_amount' feature\n",
    "sns.histplot(df['loan_amount'])\n",
    "plt.xlabel('Loan Amount')\n",
    "plt.ylabel('Frequency')\n",
    "plt.title('Distribution of Loan Amounts')\n",
    "plt.show()\n"
   ]
  },
  {
   "cell_type": "code",
   "execution_count": null,
   "id": "2415f83e-1c00-4f18-ab62-093e35446b59",
   "metadata": {},
   "outputs": [],
   "source": [
    "\n",
    "# Visualize the relationship between 'credit_score' and 'loan_default'\n",
    "sns.scatterplot(x='credit_score', y='loan_default', data=df)\n",
    "plt.xlabel('Credit Score')\n",
    "plt.ylabel('Loan Default')\n",
    "plt.title('Relationship between Credit Score and Loan Default')\n",
    "plt.show()"
   ]
  },
  {
   "cell_type": "code",
   "execution_count": null,
   "id": "d5d27dee-6b47-4b66-905b-6fbb2ca1ea5a",
   "metadata": {},
   "outputs": [],
   "source": [
    "# Create a new feature 'loan_to_income_ratio'\n",
    "data['loan_to_income_ratio'] = data['loan_amount'] / data['annual_income']"
   ]
  },
  {
   "cell_type": "code",
   "execution_count": null,
   "id": "94566dd8-935e-46a8-a4bf-180ac64f2825",
   "metadata": {},
   "outputs": [],
   "source": [
    "# Standardize the 'credit_score' feature\n",
    "scaler = StandardScaler()\n",
    "df['credit_score_scaled'] = scaler.fit_transform(df[['credit_score']])"
   ]
  },
  {
   "cell_type": "code",
   "execution_count": null,
   "id": "f4431cc0-7934-4352-9e14-267d6e6422b4",
   "metadata": {},
   "outputs": [],
   "source": [
    "# Normalize the 'loan_amount' feature\n",
    "normalizer = MinMaxScaler()\n",
    "df['loan_amount_normalized'] = normalizer.fit_transform(df[['loan_amount']])"
   ]
  },
  {
   "cell_type": "code",
   "execution_count": null,
   "id": "2cc93dc1-58ba-4f23-9d6f-807cf0e9deea",
   "metadata": {},
   "outputs": [],
   "source": [
    "# Correlation heatmap\n",
    "plt.figure(figsize=(12, 10))\n",
    "sns.heatmap(data.corr(), annot=True, cmap='coolwarm')\n",
    "plt.title('Correlation Heatmap')\n",
    "plt.show()"
   ]
  },
  {
   "cell_type": "code",
   "execution_count": null,
   "id": "7d243484-75f1-40ea-88a8-0fd942548c6f",
   "metadata": {},
   "outputs": [],
   "source": [
    "# Save cleaned dataset\n",
    "data.to_csv('cleaned_loan_data.csv', index=False)"
   ]
  }
 ],
 "metadata": {
  "kernelspec": {
   "display_name": "Python 3 (ipykernel)",
   "language": "python",
   "name": "python3"
  },
  "language_info": {
   "codemirror_mode": {
    "name": "ipython",
    "version": 3
   },
   "file_extension": ".py",
   "mimetype": "text/x-python",
   "name": "python",
   "nbconvert_exporter": "python",
   "pygments_lexer": "ipython3",
   "version": "3.11.7"
  }
 },
 "nbformat": 4,
 "nbformat_minor": 5
}
